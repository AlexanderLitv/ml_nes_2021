{
 "cells": [
  {
   "cell_type": "markdown",
   "metadata": {},
   "source": [
    "\n",
    "# Семинар 3. KNN"
   ]
  },
  {
   "cell_type": "markdown",
   "metadata": {},
   "source": [
    "#### Задача 1.\n",
    "Предположим, мы решаем задачу классификации на три класса по двум признакам и используем метод k ближайших соседей с k=3 и манхэттанской метрикой. Мы имеем следующую обучающую выборку:\n",
    "\n",
    "| Признак 1 | Признак 2 | Класс |\n",
    "|-----------|-----------|-------|\n",
    "| 1         | -1        | 1     |\n",
    "| 2         | 2         | 1     |\n",
    "| 3         | 2         | 2     |\n",
    "| 1         | 0         | 3     |\n",
    "| 2         | -2        | 3     |\n",
    "\n",
    "Каковы будут предсказания для объекта $x=(2, -1)$?\n",
    "\n",
    "__Решение.__\n",
    "\n",
    "Алгоритм предсказания kNN для задачи классификации:\n",
    "1. Вычислить расстояние от каждого объекта обучающей выборки до тестового объекта.\n",
    "1. Найти k объектов обучающей выборки (соседей) с наименьшим расстоянием до тестового объекта.\n",
    "1. Вернуть наиболее встречающийся класс среди k соседей.\n",
    "\n",
    "Вычислим расстояния. Расстояние от первого объекта в обучении до тестового объекта $x$ (манхэттанская метрика):\n",
    "\n",
    "$$|1-2| + |-1-(-1)| = 1.$$\n",
    "\n",
    "Аналогично для 2-5 объектов: получатся расстояния 3, 4, 2, 1.\n",
    "\n",
    "Находим 3 ближайших объекта: это объекты с номерами 1, 4, 5 (расстояния 1, 2, 1 соответственно). Эти три объекта относятся к классам 1, 3, 3. Чаще всего встречается класс 3, поэтому предсказываем 3.\n",
    "\n",
    "#### Задача 2.\n",
    "Визуализируйте разделяющую поверхность между классами для следующей выборки:\n",
    "\n",
    "| Признак 1 | Признак 2 | Класс |\n",
    "|-----------|-----------|-------|\n",
    "| 2         | 2        | 1     |\n",
    "| 3         | 2         | 1     |\n",
    "| 2         | 0         | 2     |\n",
    "| 1         | -1         | 3     |\n",
    "| 1        | 1        | 3     |\n",
    "\n",
    "Используйте k=1 и евклидово расстояние.\n",
    "\n",
    "**Решение.**\n",
    "\n",
    "В задачах классификации с двумя признаками мы можем изобразить признаковое пространство на плоскости и раскрасить его в разные цвета в соответствии с классом каждой точки плоскости. В этом и состоит сейчас наша задача.\n",
    "\n",
    "Для начала отобразим на плоскости обучающую выборку - пять точек - в соответствии с их координатами.\n",
    "\n",
    "При $k=1$ каждая точка плоскости будет относиться к тому же классу, что и ближайший к ней объект обучающей выборки. Если нам даны две точки разных классов, то чтобы провести между ними границу классов, нужно построить серединный перпендикудяр. Для случая с несколькими точками нужно построить несколько серединных перпендикуляров, найти их точки пересечения и определить, какие области к каким классам относятся. Более строго такая конструкция задается с помощью [Диаграммы Вороного](https://ru.wikipedia.org/wiki/%D0%94%D0%B8%D0%B0%D0%B3%D1%80%D0%B0%D0%BC%D0%BC%D0%B0_%D0%92%D0%BE%D1%80%D0%BE%D0%BD%D0%BE%D0%B3%D0%BE), но мы не будем вдаваться в ее детали.\n",
    "\n",
    "<div>\n",
    "<img src=\"classifi.png\" width=\"350\"/>\n",
    "</div>\n",
    "\n",
    "#### Задача 3.\n",
    "Предположим, мы решаем задачу регрессии по двум признакам и используем метод k ближайших соседей с k=3 и манхэттанской метрикой. Мы имеем следующую обучающую выборку:\n",
    "\n",
    "| Признак 1 | Признак 2 | Ответ |\n",
    "|-----------|-----------|-------|\n",
    "| 1         | -1        | 3.5     |\n",
    "| 2         | 2         | 2.3     |\n",
    "| 3         | 2         | 1.7     |\n",
    "| 1         | 0         | -0.4     |\n",
    "| 2         | -2        | 0.1     |\n",
    "\n",
    "Каковы будут предсказания для объекта $x=(2, -1)$?\n",
    "\n",
    "**Решение.**\n",
    "\n",
    "Предсказания kNN для регрессии отличаются от предсказаний для классификации только финальным шагом: вместо поиска наиболее часто встречающегося класса нужно усреднить ответы на соседях. Признаки в этой задаче те же, что в задаче 1, поэтому соседей мы уже знаем: это объекты с номерами 1, 4, 5. На них мы имеем ответы 3.5, -0.3, 0.1. Усредним их: (3.5-0.4+0.1)/3 = 1.1. Предсказываем 1.1.\n",
    "\n",
    "#### Вопрос: каковы параметры и гиперпараметры метода kNN?\n",
    "\n",
    "**Ответ:**\n",
    "\n",
    "Параметров нет. Гиперпараметры — число соседей k и метрика для посчета расстояния.\n",
    "\n",
    "#### Вопрос: какова динамика качества работы kNN при увеличении k?\n",
    "\n",
    "**Ответ:**\n",
    "\n",
    "При $k=1$ вокруг каждого объекта обучающей выборки создается область его класса. Если, к примеру, в \"большую\" область одного класса случайно попал один шумовой объект другого класса, вокруг этого шумового объекта будет \"остров\" предсказания другого класса. Это нелогично и говорит о переобучении.\n",
    "\n",
    "При $k$, равном числу объектов в выборке, для всех объектов будет предсказываться одно и то же, что вновь говорит о низком качестве работы классификатора. Получается, что качество kNN при увеличении $k$ должно сначала расти, а потом падать, и оптимум будем где-то посередине.\n",
    "\n",
    "Рассмотрим синтетический пример: на рисунке визуализирована обучающая выборка (\"настоящая\" разделяющая поверхность - прямая) и разделяющая поверхность kNN по аналогии с задачей 2, и на разных графиках используется разное число соседей $k$:\n",
    "\n",
    "<div>\n",
    "<img src=\"k_grid.png\" width=\"550\"/>\n",
    "</div>\n",
    "\n",
    "При использовании малых $k$ разделяющая поверхность слишком сложная, на нее оказывают сильное воздействие шумовые объекты. Далее поверхность становится все ровнее и ровнее и при $k=50$ выглядит наиболее разумно. При большем k разделяющая поверхность уходит от линейной, и оранжевый класс \"захватывает\" синий.\n",
    "\n",
    "#### Вопрос: почему при использовании kNN важно нормировать данные?\n",
    "\n",
    "### Практическая часть"
   ]
  },
  {
   "cell_type": "code",
   "execution_count": 1,
   "metadata": {},
   "outputs": [],
   "source": [
    "import numpy as np\n",
    "import pandas as pd\n",
    "import sklearn\n",
    "import matplotlib.pyplot as plt\n",
    "\n",
    "plt.style.use('ggplot')\n",
    "\n",
    "# изображения цифр\n",
    "from sklearn.datasets import load_digits\n",
    "# классификатор\n",
    "from sklearn.neighbors import KNeighborsClassifier\n",
    "# шаффлер данных\n",
    "from sklearn.utils import shuffle\n",
    "# поиск гиперпараметров\n",
    "from sklearn.model_selection import GridSearchCV"
   ]
  },
  {
   "cell_type": "code",
   "execution_count": 2,
   "metadata": {},
   "outputs": [],
   "source": [
    "data = load_digits()\n",
    "X = data.images\n",
    "y = data.target"
   ]
  },
  {
   "cell_type": "code",
   "execution_count": 3,
   "metadata": {},
   "outputs": [
    {
     "data": {
      "text/plain": [
       "<matplotlib.image.AxesImage at 0x7fdd13aadd90>"
      ]
     },
     "execution_count": 3,
     "metadata": {},
     "output_type": "execute_result"
    },
    {
     "data": {
      "image/png": "[encoded data removed]",
      "text/plain": [
       "<Figure size 432x288 with 1 Axes>"
      ]
     },
     "metadata": {},
     "output_type": "display_data"
    }
   ],
   "source": [
    "plt.imshow(X[10, :, :])"
   ]
  },
  {
   "cell_type": "markdown",
   "metadata": {},
   "source": [
    "Инициализируйте классификатор с дефолтным числом соседей."
   ]
  },
  {
   "cell_type": "code",
   "execution_count": 21,
   "metadata": {},
   "outputs": [],
   "source": [
    "clf = KNeighborsClassifier()"
   ]
  },
  {
   "cell_type": "code",
   "execution_count": 22,
   "metadata": {},
   "outputs": [],
   "source": [
    "#?KNeighborsClassifier"
   ]
  },
  {
   "cell_type": "code",
   "execution_count": 23,
   "metadata": {},
   "outputs": [
    {
     "name": "stdout",
     "output_type": "stream",
     "text": [
      "Features shape: (1797, 64),\n",
      "Target shape: (1797,)\n",
      "Target samples: [3 0 1 6 7 3 6 9 3 0]\n"
     ]
    }
   ],
   "source": [
    "# вытягиваем квадратное изображение в вектор, чтобы получить матрицу объекты-признаки\n",
    "X = X.reshape(X.shape[0], -1)\n",
    "\n",
    "# перемешиваем данные\n",
    "X, y = shuffle(X, y)\n",
    "print(f\"Features shape: {X.shape},\\nTarget shape: {y.shape}\")\n",
    "print(f\"Target samples: {y[:10]}\")"
   ]
  },
  {
   "cell_type": "code",
   "execution_count": 24,
   "metadata": {},
   "outputs": [],
   "source": [
    "X_train, y_train = X[:700, :], y[:700]\n",
    "X_val, y_val = X[700:1300, :], y[700:1300]\n",
    "X_test, y_test = X[1300:, :], y[1300:]"
   ]
  },
  {
   "cell_type": "markdown",
   "metadata": {},
   "source": [
    "Обучите классификатор и сделайте предсказания."
   ]
  },
  {
   "cell_type": "code",
   "execution_count": 25,
   "metadata": {},
   "outputs": [],
   "source": [
    "clf.fit(X_train, y_train)\n",
    "y_pred = clf.predict(X_test)"
   ]
  },
  {
   "cell_type": "markdown",
   "metadata": {},
   "source": [
    "Посчитайте долю правильных ответов (accuracy)."
   ]
  },
  {
   "cell_type": "code",
   "execution_count": 26,
   "metadata": {},
   "outputs": [
    {
     "data": {
      "text/plain": [
       "0.9818913480885312"
      ]
     },
     "execution_count": 26,
     "metadata": {},
     "output_type": "execute_result"
    }
   ],
   "source": [
    "np.mean(y_pred == y_test)"
   ]
  },
  {
   "cell_type": "markdown",
   "metadata": {},
   "source": [
    "Попробуем использовать разные значения гиперпараметра k. Сравнивать разные значения k по обучающей выборке бесполезно: каждый объект является ближайшим сам к себе и оптимальное k будет равно 1. Будем сравнивать разные k по качеству на валидационной выборке:"
   ]
  },
  {
   "cell_type": "code",
   "execution_count": 27,
   "metadata": {},
   "outputs": [
    {
     "name": "stdout",
     "output_type": "stream",
     "text": [
      "k = 1; accuracy = 0.977\n",
      "k = 2; accuracy = 0.967\n",
      "k = 3; accuracy = 0.977\n",
      "k = 4; accuracy = 0.970\n",
      "k = 5; accuracy = 0.970\n",
      "k = 6; accuracy = 0.967\n",
      "k = 7; accuracy = 0.962\n",
      "k = 8; accuracy = 0.963\n",
      "k = 9; accuracy = 0.960\n",
      "k = 10; accuracy = 0.960\n",
      "k = 11; accuracy = 0.963\n",
      "k = 12; accuracy = 0.963\n",
      "k = 13; accuracy = 0.963\n",
      "k = 14; accuracy = 0.963\n",
      "k = 15; accuracy = 0.957\n",
      "k = 16; accuracy = 0.960\n",
      "k = 17; accuracy = 0.958\n",
      "k = 18; accuracy = 0.952\n",
      "k = 19; accuracy = 0.953\n"
     ]
    }
   ],
   "source": [
    "for k in range(1, 20):\n",
    "    clf =  KNeighborsClassifier(n_neighbors=k).fit(X_train, y_train)\n",
    "    y_predicted = clf.predict(X_val)\n",
    "    print(f\"k = {k}; accuracy = {np.mean(y_val==y_predicted):.3f}\")"
   ]
  },
  {
   "cell_type": "code",
   "execution_count": 28,
   "metadata": {},
   "outputs": [],
   "source": [
    "best_k = 1"
   ]
  },
  {
   "cell_type": "markdown",
   "metadata": {},
   "source": [
    "Сравним точность (accuracy) на обучении, валидации и тесте:"
   ]
  },
  {
   "cell_type": "code",
   "execution_count": 29,
   "metadata": {},
   "outputs": [
    {
     "name": "stdout",
     "output_type": "stream",
     "text": [
      "Accuracy: 1.000\n",
      "Accuracy: 0.977\n",
      "Accuracy: 0.984\n"
     ]
    }
   ],
   "source": [
    "clf = KNeighborsClassifier(n_neighbors=best_k)\n",
    "clf.fit(X_train, y_train)\n",
    "\n",
    "for X_data, y_data in zip([X_train, X_val, X_test], [y_train, y_val, y_test]):\n",
    "    y_predicted = clf.predict(X_data)\n",
    "    print(f\"Accuracy: {np.mean(y_predicted==y_data):.3f}\")"
   ]
  },
  {
   "cell_type": "markdown",
   "metadata": {},
   "source": [
    "### Grid Search"
   ]
  },
  {
   "cell_type": "code",
   "execution_count": 30,
   "metadata": {},
   "outputs": [
    {
     "data": {
      "text/plain": [
       "{'n_neighbors': array([ 1,  2,  3,  4,  5,  6,  7,  8,  9, 10, 11, 12, 13, 14, 15, 16, 17,\n",
       "        18, 19])}"
      ]
     },
     "execution_count": 30,
     "metadata": {},
     "output_type": "execute_result"
    }
   ],
   "source": [
    "{'n_neighbors': np.arange(1, 20)}"
   ]
  },
  {
   "cell_type": "code",
   "execution_count": 31,
   "metadata": {},
   "outputs": [],
   "source": [
    "clf_cv = GridSearchCV(estimator=clf,           \n",
    "                      param_grid={'n_neighbors': np.arange(1, 20)}, \n",
    "                      cv=5,\n",
    "                      scoring='accuracy')"
   ]
  },
  {
   "cell_type": "code",
   "execution_count": 32,
   "metadata": {},
   "outputs": [
    {
     "data": {
      "text/plain": [
       "GridSearchCV(cv=5, estimator=KNeighborsClassifier(n_neighbors=1),\n",
       "             param_grid={'n_neighbors': array([ 1,  2,  3,  4,  5,  6,  7,  8,  9, 10, 11, 12, 13, 14, 15, 16, 17,\n",
       "       18, 19])},\n",
       "             scoring='accuracy')"
      ]
     },
     "execution_count": 32,
     "metadata": {},
     "output_type": "execute_result"
    }
   ],
   "source": [
    "clf_cv.fit(X_train, y_train)"
   ]
  },
  {
   "cell_type": "code",
   "execution_count": 33,
   "metadata": {},
   "outputs": [
    {
     "data": {
      "text/plain": [
       "{'n_neighbors': 5}"
      ]
     },
     "execution_count": 33,
     "metadata": {},
     "output_type": "execute_result"
    }
   ],
   "source": [
    "clf_cv.best_params_"
   ]
  },
  {
   "cell_type": "code",
   "execution_count": 34,
   "metadata": {},
   "outputs": [
    {
     "data": {
      "text/html": [
       "<div>\n",
       "<style scoped>\n",
       "    .dataframe tbody tr th:only-of-type {\n",
       "        vertical-align: middle;\n",
       "    }\n",
       "\n",
       "    .dataframe tbody tr th {\n",
       "        vertical-align: top;\n",
       "    }\n",
       "\n",
       "    .dataframe thead th {\n",
       "        text-align: right;\n",
       "    }\n",
       "</style>\n",
       "<table border=\"1\" class=\"dataframe\">\n",
       "  <thead>\n",
       "    <tr style=\"text-align: right;\">\n",
       "      <th></th>\n",
       "      <th>mean_fit_time</th>\n",
       "      <th>std_fit_time</th>\n",
       "      <th>mean_score_time</th>\n",
       "      <th>std_score_time</th>\n",
       "      <th>param_n_neighbors</th>\n",
       "      <th>params</th>\n",
       "      <th>split0_test_score</th>\n",
       "      <th>split1_test_score</th>\n",
       "      <th>split2_test_score</th>\n",
       "      <th>split3_test_score</th>\n",
       "      <th>split4_test_score</th>\n",
       "      <th>mean_test_score</th>\n",
       "      <th>std_test_score</th>\n",
       "      <th>rank_test_score</th>\n",
       "    </tr>\n",
       "  </thead>\n",
       "  <tbody>\n",
       "    <tr>\n",
       "      <th>0</th>\n",
       "      <td>0.000647</td>\n",
       "      <td>6.862888e-05</td>\n",
       "      <td>0.006196</td>\n",
       "      <td>0.000848</td>\n",
       "      <td>1</td>\n",
       "      <td>{'n_neighbors': 1}</td>\n",
       "      <td>0.992857</td>\n",
       "      <td>0.964286</td>\n",
       "      <td>0.971429</td>\n",
       "      <td>0.971429</td>\n",
       "      <td>0.964286</td>\n",
       "      <td>0.972857</td>\n",
       "      <td>0.010498</td>\n",
       "      <td>4</td>\n",
       "    </tr>\n",
       "    <tr>\n",
       "      <th>1</th>\n",
       "      <td>0.000512</td>\n",
       "      <td>4.331509e-05</td>\n",
       "      <td>0.004882</td>\n",
       "      <td>0.000313</td>\n",
       "      <td>2</td>\n",
       "      <td>{'n_neighbors': 2}</td>\n",
       "      <td>0.971429</td>\n",
       "      <td>0.971429</td>\n",
       "      <td>0.985714</td>\n",
       "      <td>0.957143</td>\n",
       "      <td>0.957143</td>\n",
       "      <td>0.968571</td>\n",
       "      <td>0.010690</td>\n",
       "      <td>5</td>\n",
       "    </tr>\n",
       "    <tr>\n",
       "      <th>2</th>\n",
       "      <td>0.000442</td>\n",
       "      <td>3.525778e-05</td>\n",
       "      <td>0.004389</td>\n",
       "      <td>0.000058</td>\n",
       "      <td>3</td>\n",
       "      <td>{'n_neighbors': 3}</td>\n",
       "      <td>0.992857</td>\n",
       "      <td>0.985714</td>\n",
       "      <td>0.964286</td>\n",
       "      <td>0.971429</td>\n",
       "      <td>0.957143</td>\n",
       "      <td>0.974286</td>\n",
       "      <td>0.013248</td>\n",
       "      <td>2</td>\n",
       "    </tr>\n",
       "    <tr>\n",
       "      <th>3</th>\n",
       "      <td>0.000382</td>\n",
       "      <td>1.745836e-05</td>\n",
       "      <td>0.004440</td>\n",
       "      <td>0.000060</td>\n",
       "      <td>4</td>\n",
       "      <td>{'n_neighbors': 4}</td>\n",
       "      <td>0.978571</td>\n",
       "      <td>0.992857</td>\n",
       "      <td>0.978571</td>\n",
       "      <td>0.957143</td>\n",
       "      <td>0.964286</td>\n",
       "      <td>0.974286</td>\n",
       "      <td>0.012454</td>\n",
       "      <td>2</td>\n",
       "    </tr>\n",
       "    <tr>\n",
       "      <th>4</th>\n",
       "      <td>0.000353</td>\n",
       "      <td>3.535033e-06</td>\n",
       "      <td>0.004371</td>\n",
       "      <td>0.000068</td>\n",
       "      <td>5</td>\n",
       "      <td>{'n_neighbors': 5}</td>\n",
       "      <td>0.978571</td>\n",
       "      <td>0.992857</td>\n",
       "      <td>0.985714</td>\n",
       "      <td>0.964286</td>\n",
       "      <td>0.957143</td>\n",
       "      <td>0.975714</td>\n",
       "      <td>0.013248</td>\n",
       "      <td>1</td>\n",
       "    </tr>\n",
       "    <tr>\n",
       "      <th>5</th>\n",
       "      <td>0.000350</td>\n",
       "      <td>6.810597e-07</td>\n",
       "      <td>0.004439</td>\n",
       "      <td>0.000113</td>\n",
       "      <td>6</td>\n",
       "      <td>{'n_neighbors': 6}</td>\n",
       "      <td>0.964286</td>\n",
       "      <td>0.971429</td>\n",
       "      <td>0.978571</td>\n",
       "      <td>0.957143</td>\n",
       "      <td>0.957143</td>\n",
       "      <td>0.965714</td>\n",
       "      <td>0.008330</td>\n",
       "      <td>8</td>\n",
       "    </tr>\n",
       "    <tr>\n",
       "      <th>6</th>\n",
       "      <td>0.000348</td>\n",
       "      <td>2.284841e-06</td>\n",
       "      <td>0.004336</td>\n",
       "      <td>0.000042</td>\n",
       "      <td>7</td>\n",
       "      <td>{'n_neighbors': 7}</td>\n",
       "      <td>0.971429</td>\n",
       "      <td>0.985714</td>\n",
       "      <td>0.957143</td>\n",
       "      <td>0.964286</td>\n",
       "      <td>0.957143</td>\n",
       "      <td>0.967143</td>\n",
       "      <td>0.010690</td>\n",
       "      <td>6</td>\n",
       "    </tr>\n",
       "    <tr>\n",
       "      <th>7</th>\n",
       "      <td>0.000348</td>\n",
       "      <td>1.451027e-06</td>\n",
       "      <td>0.004340</td>\n",
       "      <td>0.000028</td>\n",
       "      <td>8</td>\n",
       "      <td>{'n_neighbors': 8}</td>\n",
       "      <td>0.964286</td>\n",
       "      <td>0.985714</td>\n",
       "      <td>0.971429</td>\n",
       "      <td>0.950000</td>\n",
       "      <td>0.957143</td>\n",
       "      <td>0.965714</td>\n",
       "      <td>0.012289</td>\n",
       "      <td>7</td>\n",
       "    </tr>\n",
       "    <tr>\n",
       "      <th>8</th>\n",
       "      <td>0.000352</td>\n",
       "      <td>5.829127e-06</td>\n",
       "      <td>0.004412</td>\n",
       "      <td>0.000055</td>\n",
       "      <td>9</td>\n",
       "      <td>{'n_neighbors': 9}</td>\n",
       "      <td>0.978571</td>\n",
       "      <td>0.971429</td>\n",
       "      <td>0.950000</td>\n",
       "      <td>0.957143</td>\n",
       "      <td>0.957143</td>\n",
       "      <td>0.962857</td>\n",
       "      <td>0.010498</td>\n",
       "      <td>9</td>\n",
       "    </tr>\n",
       "    <tr>\n",
       "      <th>9</th>\n",
       "      <td>0.000349</td>\n",
       "      <td>1.569946e-06</td>\n",
       "      <td>0.004392</td>\n",
       "      <td>0.000044</td>\n",
       "      <td>10</td>\n",
       "      <td>{'n_neighbors': 10}</td>\n",
       "      <td>0.971429</td>\n",
       "      <td>0.964286</td>\n",
       "      <td>0.957143</td>\n",
       "      <td>0.964286</td>\n",
       "      <td>0.942857</td>\n",
       "      <td>0.960000</td>\n",
       "      <td>0.009689</td>\n",
       "      <td>11</td>\n",
       "    </tr>\n",
       "    <tr>\n",
       "      <th>10</th>\n",
       "      <td>0.000448</td>\n",
       "      <td>3.281922e-05</td>\n",
       "      <td>0.004888</td>\n",
       "      <td>0.000287</td>\n",
       "      <td>11</td>\n",
       "      <td>{'n_neighbors': 11}</td>\n",
       "      <td>0.978571</td>\n",
       "      <td>0.957143</td>\n",
       "      <td>0.950000</td>\n",
       "      <td>0.964286</td>\n",
       "      <td>0.950000</td>\n",
       "      <td>0.960000</td>\n",
       "      <td>0.010690</td>\n",
       "      <td>11</td>\n",
       "    </tr>\n",
       "    <tr>\n",
       "      <th>11</th>\n",
       "      <td>0.000545</td>\n",
       "      <td>5.356998e-05</td>\n",
       "      <td>0.005190</td>\n",
       "      <td>0.000361</td>\n",
       "      <td>12</td>\n",
       "      <td>{'n_neighbors': 12}</td>\n",
       "      <td>0.971429</td>\n",
       "      <td>0.971429</td>\n",
       "      <td>0.957143</td>\n",
       "      <td>0.964286</td>\n",
       "      <td>0.942857</td>\n",
       "      <td>0.961429</td>\n",
       "      <td>0.010690</td>\n",
       "      <td>10</td>\n",
       "    </tr>\n",
       "    <tr>\n",
       "      <th>12</th>\n",
       "      <td>0.000432</td>\n",
       "      <td>4.580874e-05</td>\n",
       "      <td>0.004683</td>\n",
       "      <td>0.000081</td>\n",
       "      <td>13</td>\n",
       "      <td>{'n_neighbors': 13}</td>\n",
       "      <td>0.978571</td>\n",
       "      <td>0.957143</td>\n",
       "      <td>0.964286</td>\n",
       "      <td>0.935714</td>\n",
       "      <td>0.942857</td>\n",
       "      <td>0.955714</td>\n",
       "      <td>0.015253</td>\n",
       "      <td>14</td>\n",
       "    </tr>\n",
       "    <tr>\n",
       "      <th>13</th>\n",
       "      <td>0.000421</td>\n",
       "      <td>5.970519e-05</td>\n",
       "      <td>0.004651</td>\n",
       "      <td>0.000257</td>\n",
       "      <td>14</td>\n",
       "      <td>{'n_neighbors': 14}</td>\n",
       "      <td>0.971429</td>\n",
       "      <td>0.957143</td>\n",
       "      <td>0.964286</td>\n",
       "      <td>0.957143</td>\n",
       "      <td>0.942857</td>\n",
       "      <td>0.958571</td>\n",
       "      <td>0.009476</td>\n",
       "      <td>13</td>\n",
       "    </tr>\n",
       "    <tr>\n",
       "      <th>14</th>\n",
       "      <td>0.000383</td>\n",
       "      <td>3.418108e-05</td>\n",
       "      <td>0.004529</td>\n",
       "      <td>0.000095</td>\n",
       "      <td>15</td>\n",
       "      <td>{'n_neighbors': 15}</td>\n",
       "      <td>0.978571</td>\n",
       "      <td>0.950000</td>\n",
       "      <td>0.957143</td>\n",
       "      <td>0.950000</td>\n",
       "      <td>0.942857</td>\n",
       "      <td>0.955714</td>\n",
       "      <td>0.012289</td>\n",
       "      <td>14</td>\n",
       "    </tr>\n",
       "    <tr>\n",
       "      <th>15</th>\n",
       "      <td>0.000356</td>\n",
       "      <td>7.619553e-06</td>\n",
       "      <td>0.004464</td>\n",
       "      <td>0.000043</td>\n",
       "      <td>16</td>\n",
       "      <td>{'n_neighbors': 16}</td>\n",
       "      <td>0.964286</td>\n",
       "      <td>0.950000</td>\n",
       "      <td>0.964286</td>\n",
       "      <td>0.935714</td>\n",
       "      <td>0.935714</td>\n",
       "      <td>0.950000</td>\n",
       "      <td>0.012778</td>\n",
       "      <td>16</td>\n",
       "    </tr>\n",
       "    <tr>\n",
       "      <th>16</th>\n",
       "      <td>0.000351</td>\n",
       "      <td>1.969516e-06</td>\n",
       "      <td>0.004444</td>\n",
       "      <td>0.000056</td>\n",
       "      <td>17</td>\n",
       "      <td>{'n_neighbors': 17}</td>\n",
       "      <td>0.964286</td>\n",
       "      <td>0.942857</td>\n",
       "      <td>0.950000</td>\n",
       "      <td>0.935714</td>\n",
       "      <td>0.935714</td>\n",
       "      <td>0.945714</td>\n",
       "      <td>0.010690</td>\n",
       "      <td>19</td>\n",
       "    </tr>\n",
       "    <tr>\n",
       "      <th>17</th>\n",
       "      <td>0.000350</td>\n",
       "      <td>1.291868e-06</td>\n",
       "      <td>0.004475</td>\n",
       "      <td>0.000048</td>\n",
       "      <td>18</td>\n",
       "      <td>{'n_neighbors': 18}</td>\n",
       "      <td>0.964286</td>\n",
       "      <td>0.942857</td>\n",
       "      <td>0.957143</td>\n",
       "      <td>0.935714</td>\n",
       "      <td>0.942857</td>\n",
       "      <td>0.948571</td>\n",
       "      <td>0.010498</td>\n",
       "      <td>17</td>\n",
       "    </tr>\n",
       "    <tr>\n",
       "      <th>18</th>\n",
       "      <td>0.000352</td>\n",
       "      <td>7.588456e-06</td>\n",
       "      <td>0.004510</td>\n",
       "      <td>0.000019</td>\n",
       "      <td>19</td>\n",
       "      <td>{'n_neighbors': 19}</td>\n",
       "      <td>0.971429</td>\n",
       "      <td>0.935714</td>\n",
       "      <td>0.957143</td>\n",
       "      <td>0.935714</td>\n",
       "      <td>0.942857</td>\n",
       "      <td>0.948571</td>\n",
       "      <td>0.013851</td>\n",
       "      <td>17</td>\n",
       "    </tr>\n",
       "  </tbody>\n",
       "</table>\n",
       "</div>"
      ],
      "text/plain": [
       "    mean_fit_time  std_fit_time  mean_score_time  std_score_time  \\\n",
       "0        0.000647  6.862888e-05         0.006196        0.000848   \n",
       "1        0.000512  4.331509e-05         0.004882        0.000313   \n",
       "2        0.000442  3.525778e-05         0.004389        0.000058   \n",
       "3        0.000382  1.745836e-05         0.004440        0.000060   \n",
       "4        0.000353  3.535033e-06         0.004371        0.000068   \n",
       "5        0.000350  6.810597e-07         0.004439        0.000113   \n",
       "6        0.000348  2.284841e-06         0.004336        0.000042   \n",
       "7        0.000348  1.451027e-06         0.004340        0.000028   \n",
       "8        0.000352  5.829127e-06         0.004412        0.000055   \n",
       "9        0.000349  1.569946e-06         0.004392        0.000044   \n",
       "10       0.000448  3.281922e-05         0.004888        0.000287   \n",
       "11       0.000545  5.356998e-05         0.005190        0.000361   \n",
       "12       0.000432  4.580874e-05         0.004683        0.000081   \n",
       "13       0.000421  5.970519e-05         0.004651        0.000257   \n",
       "14       0.000383  3.418108e-05         0.004529        0.000095   \n",
       "15       0.000356  7.619553e-06         0.004464        0.000043   \n",
       "16       0.000351  1.969516e-06         0.004444        0.000056   \n",
       "17       0.000350  1.291868e-06         0.004475        0.000048   \n",
       "18       0.000352  7.588456e-06         0.004510        0.000019   \n",
       "\n",
       "   param_n_neighbors               params  split0_test_score  \\\n",
       "0                  1   {'n_neighbors': 1}           0.992857   \n",
       "1                  2   {'n_neighbors': 2}           0.971429   \n",
       "2                  3   {'n_neighbors': 3}           0.992857   \n",
       "3                  4   {'n_neighbors': 4}           0.978571   \n",
       "4                  5   {'n_neighbors': 5}           0.978571   \n",
       "5                  6   {'n_neighbors': 6}           0.964286   \n",
       "6                  7   {'n_neighbors': 7}           0.971429   \n",
       "7                  8   {'n_neighbors': 8}           0.964286   \n",
       "8                  9   {'n_neighbors': 9}           0.978571   \n",
       "9                 10  {'n_neighbors': 10}           0.971429   \n",
       "10                11  {'n_neighbors': 11}           0.978571   \n",
       "11                12  {'n_neighbors': 12}           0.971429   \n",
       "12                13  {'n_neighbors': 13}           0.978571   \n",
       "13                14  {'n_neighbors': 14}           0.971429   \n",
       "14                15  {'n_neighbors': 15}           0.978571   \n",
       "15                16  {'n_neighbors': 16}           0.964286   \n",
       "16                17  {'n_neighbors': 17}           0.964286   \n",
       "17                18  {'n_neighbors': 18}           0.964286   \n",
       "18                19  {'n_neighbors': 19}           0.971429   \n",
       "\n",
       "    split1_test_score  split2_test_score  split3_test_score  \\\n",
       "0            0.964286           0.971429           0.971429   \n",
       "1            0.971429           0.985714           0.957143   \n",
       "2            0.985714           0.964286           0.971429   \n",
       "3            0.992857           0.978571           0.957143   \n",
       "4            0.992857           0.985714           0.964286   \n",
       "5            0.971429           0.978571           0.957143   \n",
       "6            0.985714           0.957143           0.964286   \n",
       "7            0.985714           0.971429           0.950000   \n",
       "8            0.971429           0.950000           0.957143   \n",
       "9            0.964286           0.957143           0.964286   \n",
       "10           0.957143           0.950000           0.964286   \n",
       "11           0.971429           0.957143           0.964286   \n",
       "12           0.957143           0.964286           0.935714   \n",
       "13           0.957143           0.964286           0.957143   \n",
       "14           0.950000           0.957143           0.950000   \n",
       "15           0.950000           0.964286           0.935714   \n",
       "16           0.942857           0.950000           0.935714   \n",
       "17           0.942857           0.957143           0.935714   \n",
       "18           0.935714           0.957143           0.935714   \n",
       "\n",
       "    split4_test_score  mean_test_score  std_test_score  rank_test_score  \n",
       "0            0.964286         0.972857        0.010498                4  \n",
       "1            0.957143         0.968571        0.010690                5  \n",
       "2            0.957143         0.974286        0.013248                2  \n",
       "3            0.964286         0.974286        0.012454                2  \n",
       "4            0.957143         0.975714        0.013248                1  \n",
       "5            0.957143         0.965714        0.008330                8  \n",
       "6            0.957143         0.967143        0.010690                6  \n",
       "7            0.957143         0.965714        0.012289                7  \n",
       "8            0.957143         0.962857        0.010498                9  \n",
       "9            0.942857         0.960000        0.009689               11  \n",
       "10           0.950000         0.960000        0.010690               11  \n",
       "11           0.942857         0.961429        0.010690               10  \n",
       "12           0.942857         0.955714        0.015253               14  \n",
       "13           0.942857         0.958571        0.009476               13  \n",
       "14           0.942857         0.955714        0.012289               14  \n",
       "15           0.935714         0.950000        0.012778               16  \n",
       "16           0.935714         0.945714        0.010690               19  \n",
       "17           0.942857         0.948571        0.010498               17  \n",
       "18           0.942857         0.948571        0.013851               17  "
      ]
     },
     "execution_count": 34,
     "metadata": {},
     "output_type": "execute_result"
    }
   ],
   "source": [
    "cv_results = pd.DataFrame(clf_cv.cv_results_)\n",
    "cv_results"
   ]
  },
  {
   "cell_type": "code",
   "execution_count": 35,
   "metadata": {},
   "outputs": [],
   "source": [
    "n_neighbors = cv_results['param_n_neighbors']\n",
    "mean_score = cv_results['mean_test_score']\n",
    "std_score = cv_results['std_test_score']"
   ]
  },
  {
   "cell_type": "code",
   "execution_count": 36,
   "metadata": {},
   "outputs": [
    {
     "data": {
      "image/png": "[encoded data removed]",
      "text/plain": [
       "<Figure size 1152x576 with 1 Axes>"
      ]
     },
     "metadata": {},
     "output_type": "display_data"
    }
   ],
   "source": [
    "plt.figure(figsize=(16, 8))\n",
    "plt.plot(n_neighbors, mean_score)\n",
    "plt.fill_between(list(n_neighbors), mean_score - std_score, mean_score + std_score, alpha=0.2, color='green')\n",
    "plt.xticks(list(n_neighbors))\n",
    "plt.xlabel('Число соседей')\n",
    "plt.ylabel('Доля правильнх ответов')\n",
    "plt.xlim(min(n_neighbors), max(n_neighbors))\n",
    "plt.show()"
   ]
  },
  {
   "cell_type": "code",
   "execution_count": null,
   "metadata": {},
   "outputs": [],
   "source": []
  }
 ],
 "metadata": {
  "kernelspec": {
   "display_name": "Python 3",
   "language": "python",
   "name": "python3"
  },
  "language_info": {
   "codemirror_mode": {
    "name": "ipython",
    "version": 3
   },
   "file_extension": ".py",
   "mimetype": "text/x-python",
   "name": "python",
   "nbconvert_exporter": "python",
   "pygments_lexer": "ipython3",
   "version": "3.8.8"
  }
 },
 "nbformat": 4,
 "nbformat_minor": 4
}
